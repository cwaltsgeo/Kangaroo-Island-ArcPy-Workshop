{
 "cells": [
  {
   "cell_type": "markdown",
   "metadata": {},
   "source": [
    "## Lesson 1: Introduction to ArcPy"
   ]
  },
  {
   "cell_type": "markdown",
   "metadata": {
    "heading_collapsed": true
   },
   "source": [
    "#### Exercise 1: Getting Started with ArcPy"
   ]
  },
  {
   "cell_type": "markdown",
   "metadata": {
    "hidden": true
   },
   "source": [
    "In this exercise, you will use ArcPy to connect to the VIIRS dataset, explore its metadata, and then filter the dataset down for future analysis. \n",
    "- VIIRS - https://www.arcgis.com/home/item.html?id=dece90af1a0242dcbf0ca36d30276aa3"
   ]
  },
  {
   "cell_type": "code",
   "execution_count": null,
   "metadata": {
    "hidden": true
   },
   "outputs": [],
   "source": [
    "import arcpy\n",
    "\n",
    "viirs_url = \"https://services9.arcgis.com/RHVPKKiFTONKtxq3/arcgis/rest/services/Satellite_VIIRS_Thermal_Hotspots_and_Fire_Activity/FeatureServer/0\"\n",
    "viirs_url"
   ]
  },
  {
   "cell_type": "markdown",
   "metadata": {
    "hidden": true
   },
   "source": [
    "1. Using the ```viirs_url``` from above, use the ```arcpy.MakeFeatureLayer_management()``` tool to bring the VIIRS dataset into ArcGIS Pro. Name the resulting layer ```VIIRS```\n",
    "\n",
    "Tip: https://pro.arcgis.com/en/pro-app/latest/tool-reference/data-management/make-feature-layer.htm"
   ]
  },
  {
   "cell_type": "code",
   "execution_count": null,
   "metadata": {
    "hidden": true
   },
   "outputs": [],
   "source": [
    "viirs = arcpy.MakeFeatureLayer_management(\n",
    "    in_features= ?,\n",
    "    out_layer= \"?\"\n",
    ")"
   ]
  },
  {
   "cell_type": "markdown",
   "metadata": {
    "hidden": true
   },
   "source": [
    "<details>\n",
    "<summary> <b> Reveal Answer </b> </summary>\n",
    "\n",
    "    viirs = arcpy.MakeFeatureLayer_management(\n",
    "        in_features= viirs_url,\n",
    "        out_layer= \"VIIRS\"\n",
    "    )\n",
    "</details>"
   ]
  },
  {
   "cell_type": "markdown",
   "metadata": {
    "hidden": true
   },
   "source": [
    "2. Now that we have the VIIRS layer added to ArcGIS Pro, we can use geoprocessing tools directly on the layer. Using the ```arcpy.management.GetCount()``` tool to get the number of records within the VIIRS dataset.\n",
    "\n",
    "Tip: https://pro.arcgis.com/en/pro-app/latest/tool-reference/data-management/get-count.htm"
   ]
  },
  {
   "cell_type": "code",
   "execution_count": null,
   "metadata": {
    "hidden": true
   },
   "outputs": [],
   "source": [
    "arcpy.management.GetCount(\n",
    "    in_rows=\"?\"\n",
    ")"
   ]
  },
  {
   "cell_type": "markdown",
   "metadata": {
    "hidden": true
   },
   "source": [
    "<details>\n",
    "<summary> <b> Reveal Answer </b> </summary>\n",
    "\n",
    "    arcpy.management.GetCount(\n",
    "        in_rows=\"VIIRS\"\n",
    "    )\n",
    "</details>"
   ]
  },
  {
   "cell_type": "markdown",
   "metadata": {
    "hidden": true
   },
   "source": [
    "3. That's a lot of data to crunch! We can reduce the number of records we're analyzing by applying an attribute filter. In order to do so, we need to understand the data. Specifically, we need to know the proper field names to make a filter. Use the ```arcpy.ListFields()``` tool to list out the field names of the VIIRS dataset.\n",
    "\n",
    "Tip: https://pro.arcgis.com/en/pro-app/latest/arcpy/functions/listfields.htm"
   ]
  },
  {
   "cell_type": "code",
   "execution_count": null,
   "metadata": {
    "hidden": true
   },
   "outputs": [],
   "source": [
    "for field in arcpy.ListFields(\"?\"):\n",
    "    print(field.name) "
   ]
  },
  {
   "cell_type": "markdown",
   "metadata": {
    "hidden": true
   },
   "source": [
    "<details>\n",
    "<summary> <b> Reveal Answer </b> </summary>\n",
    "\n",
    "    for field in arcpy.ListFields(\"VIIRS\"):\n",
    "        print(field.name)\n",
    "</details>"
   ]
  },
  {
   "cell_type": "markdown",
   "metadata": {
    "hidden": true
   },
   "source": [
    "4. Now that we know the field names within the VIIRS dataset, we can apply filters to subset the data. This will allow use to perform analysis on only the relevant parts of our data. Use the ```arcpy.management.SelectLayerByAttributes()``` tool to filter the ```acq_date``` field to be on or after today's date.\n",
    "\n",
    "Tip: https://pro.arcgis.com/en/pro-app/latest/tool-reference/data-management/select-layer-by-attribute.htm"
   ]
  },
  {
   "cell_type": "code",
   "execution_count": null,
   "metadata": {
    "hidden": true
   },
   "outputs": [],
   "source": [
    "arcpy.management.SelectLayerByAttribute(\n",
    "    in_layer_or_view=\"?\",\n",
    "    selection_type=\"NEW_SELECTION\",\n",
    "    where_clause=\"? >= timestamp '2024-06-16 00:00:00.000'\", # ArcPy uses SQL to filter attributes\n",
    "    invert_where_clause=None\n",
    ")"
   ]
  },
  {
   "cell_type": "markdown",
   "metadata": {
    "hidden": true
   },
   "source": [
    "<details>\n",
    "<summary> <b> Reveal Answer </b> </summary>\n",
    "\n",
    "    arcpy.management.SelectLayerByAttribute(\n",
    "        in_layer_or_view=\"VIIRS\",\n",
    "        selection_type=\"NEW_SELECTION\",\n",
    "        where_clause=\"acq_date >= timestamp '2024-06-16 00:00:00.000'\",\n",
    "        invert_where_clause=None\n",
    "    )\n",
    "</details>"
   ]
  },
  {
   "cell_type": "markdown",
   "metadata": {
    "hidden": true
   },
   "source": [
    "5. Now that we've applied our selection, we can rerun the ```arcpy.management.GetCount()``` tool. ArcPy naturally supports any filters that are being applied, so this number should be significantly smaller than before."
   ]
  },
  {
   "cell_type": "code",
   "execution_count": null,
   "metadata": {
    "hidden": true
   },
   "outputs": [],
   "source": [
    "arcpy.management.GetCount(\n",
    "    in_rows=\"?\"\n",
    ")"
   ]
  },
  {
   "cell_type": "markdown",
   "metadata": {
    "hidden": true
   },
   "source": [
    "<details>\n",
    "<summary> <b> Reveal Answer </b> </summary>\n",
    "\n",
    "    arcpy.management.GetCount(\n",
    "        in_rows=\"VIIRS\"\n",
    "    )\n",
    "</details>"
   ]
  },
  {
   "cell_type": "markdown",
   "metadata": {
    "heading_collapsed": true
   },
   "source": [
    "#### Exercise 2: Spatial Analysis with ArcPy"
   ]
  },
  {
   "cell_type": "markdown",
   "metadata": {
    "hidden": true
   },
   "source": [
    "In the previous example, we were able to successfully subset our data based on it's Acquisition Date. That's great and all, but we're GIS Analysts for crying out loud! Let's explore how we can explore spatial relationships with our data.\n",
    "\n",
    "Later on in this workshop, we will analyze wildfire damage on Kangaroo Island, Australia. Let's see if there is any current VIIRS activity on Kangaroo Island by intersecting our study area with the VIIRS dataset."
   ]
  },
  {
   "cell_type": "markdown",
   "metadata": {
    "hidden": true
   },
   "source": [
    "- Kangaroo Island - https://esrifederal.maps.arcgis.com/home/item.html?id=c1b186c4196c4ce7b809ddfe67e9462d"
   ]
  },
  {
   "cell_type": "code",
   "execution_count": null,
   "metadata": {
    "hidden": true
   },
   "outputs": [],
   "source": [
    "import arcpy\n",
    "\n",
    "kangaroo_url = \"https://services.arcgis.com/hRUr1F8lE8Jq2uJo/arcgis/rest/services/Kangaroo_Island/FeatureServer/0\"\n",
    "kangaroo_url"
   ]
  },
  {
   "cell_type": "markdown",
   "metadata": {
    "hidden": true
   },
   "source": [
    "1. Using the ```kangaroo_url``` from above, use the ```arcpy.MakeFeatureLayer_management()``` tool to bring the VIIRS dataset into ArcGIS Pro. Name the resulting layer ```Kangaroo Island```\n",
    "\n",
    "Tip: https://pro.arcgis.com/en/pro-app/latest/tool-reference/data-management/make-feature-layer.htm"
   ]
  },
  {
   "cell_type": "code",
   "execution_count": null,
   "metadata": {
    "hidden": true
   },
   "outputs": [],
   "source": [
    "kangaroo_island = arcpy.MakeFeatureLayer_management(\n",
    "    in_features= ?,\n",
    "    out_layer= \"?\"\n",
    ")"
   ]
  },
  {
   "cell_type": "markdown",
   "metadata": {
    "hidden": true
   },
   "source": [
    "<details>\n",
    "<summary> <b> Reveal Answer </b> </summary>\n",
    "\n",
    "    kangaroo_island = arcpy.MakeFeatureLayer_management(\n",
    "        in_features= kangaroo_url,\n",
    "        out_layer= \"Kangaroo Island\"\n",
    "    )\n",
    "</details>"
   ]
  },
  {
   "cell_type": "markdown",
   "metadata": {
    "hidden": true
   },
   "source": [
    "2. Now that we have our study region added to ArcGIS Pro, we can use the ```arcpy.management.SelectLayerByLocation()``` tool to determine if any VIIRS fire activity spots intersect with Kangaroo Island. For this spatial intersection to work, then ```VIIRS``` will be our input data and the selection features will be our study area, ```Kangaroo Island```."
   ]
  },
  {
   "cell_type": "code",
   "execution_count": null,
   "metadata": {
    "hidden": true
   },
   "outputs": [],
   "source": [
    "arcpy.management.SelectLayerByLocation(\n",
    "    in_layer=\"?\",\n",
    "    overlap_type=\"INTERSECT\",\n",
    "    select_features=\"?\",\n",
    "    search_distance=None,\n",
    "    selection_type=\"NEW_SELECTION\",\n",
    "    invert_spatial_relationship=\"NOT_INVERT\"\n",
    ")"
   ]
  },
  {
   "cell_type": "markdown",
   "metadata": {
    "hidden": true
   },
   "source": [
    "<details>\n",
    "<summary> <b> Reveal Answer </b> </summary>\n",
    "\n",
    "    arcpy.management.SelectLayerByLocation(\n",
    "        in_layer=\"VIIRS\",\n",
    "        overlap_type=\"INTERSECT\",\n",
    "        select_features=\"Kangaroo Island\",\n",
    "        search_distance=None,\n",
    "        selection_type=\"NEW_SELECTION\",\n",
    "        invert_spatial_relationship=\"NOT_INVERT\"\n",
    "    )\n",
    "</details>"
   ]
  },
  {
   "cell_type": "markdown",
   "metadata": {
    "hidden": true
   },
   "source": [
    "3. And now that we have determined if any VIIRS fire activity points intersect with our Kangaroo Island study area, let's use the ```arcpy.management.GetCount()``` once again to determine if there is any fire activity in Kangaroo Island."
   ]
  },
  {
   "cell_type": "code",
   "execution_count": null,
   "metadata": {
    "hidden": true
   },
   "outputs": [],
   "source": [
    "arcpy.management.GetCount(\n",
    "    in_rows=\"?\"\n",
    ")"
   ]
  },
  {
   "cell_type": "markdown",
   "metadata": {
    "hidden": true
   },
   "source": [
    "<details>\n",
    "<summary> <b> Reveal Answer </b> </summary>\n",
    "\n",
    "    arcpy.management.GetCount(\n",
    "        in_rows=\"VIIRS\"\n",
    "    )\n",
    "</details>"
   ]
  },
  {
   "cell_type": "markdown",
   "metadata": {
    "hidden": true
   },
   "source": [
    "**Is there recent VIIRS activity on Kangaroo Island?**"
   ]
  },
  {
   "cell_type": "code",
   "execution_count": null,
   "metadata": {
    "hidden": true
   },
   "outputs": [],
   "source": [
    "result = int(arcpy.management.GetCount(\n",
    "    in_rows=\"VIIRS\"\n",
    ").getOutput(0))\n",
    "\n",
    "if result > 0:\n",
    "    print(\"There is VIIRS activity on Kangaroo Island\")\n",
    "else:\n",
    "    print(\"There is not VIIRS activity on Kangaroo Island\")"
   ]
  }
 ],
 "metadata": {
  "kernelspec": {
   "display_name": "ArcGISPro",
   "language": "Python",
   "name": "python3"
  },
  "language_info": {
   "file_extension": ".py",
   "name": "python",
   "version": "3"
  }
 },
 "nbformat": 4,
 "nbformat_minor": 2
}
