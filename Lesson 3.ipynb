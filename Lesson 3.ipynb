{
 "cells": [
  {
   "cell_type": "markdown",
   "metadata": {},
   "source": [
    "## Lesson 3: A Practical Guide to ArcPy"
   ]
  },
  {
   "cell_type": "markdown",
   "metadata": {
    "heading_collapsed": true
   },
   "source": [
    "### Exercise 1: \"Python-ify\" Your GIS Workflow\n",
    "In this exercise you will begin taking steps to automate a common workflow using ArcPy. We'll walk through a common process that many image analysts perform: loading imagery into ArcGIS Pro, creating a mosaic dataset, and then clipping the mosaic dataset to an Area of Interest.\n",
    "\n",
    "When writing Python in ArcGIS Pro, it's highly recommended to take advantage of the Copy Python Command Tool to copy the syntax of any Geoprocessing Tool. In this lesson, we'll fill out the parameters manually within the Geoprocessing Tools, then copy the Python snippets to configure later."
   ]
  },
  {
   "cell_type": "markdown",
   "metadata": {
    "heading_collapsed": true,
    "hidden": true
   },
   "source": [
    "#### Create Mosaic Dataset"
   ]
  },
  {
   "cell_type": "markdown",
   "metadata": {
    "hidden": true
   },
   "source": [
    "1. Open the 'Create Mosaic Dataset' Geoprocessing Tool.\n",
    "2. Input the following parameters:\n",
    "    - **Output Location** - arcpy_workshop.gdb \n",
    "        - Catalog > Databases > arcpy_workshop.gdb\n",
    "    - **Mosaic Dataset Name** - Kangaroo_Island_2019\n",
    "    - **Coordinate System** - WGS_1984_UTM_Zone_53S \n",
    "        - Current Map [Kangaroo Island Map]\n",
    "    - **Product Definition** - Custom\n",
    "    - **Product Properties (Band Names)** - AOT, Coastal, Blue, Green, Red, VRE1, VRE2, VRE3, NIR, Water Vapor, SWIR1, SWIR2, VRE4\n",
    "3. Without running the tool, select the 'Copy Python Command' button and paste the results below\n",
    "*Note: Your file paths will be different than the solution*"
   ]
  },
  {
   "cell_type": "code",
   "execution_count": null,
   "metadata": {
    "hidden": true
   },
   "outputs": [],
   "source": [
    "# Enter Solution & Run Cell Block"
   ]
  },
  {
   "cell_type": "markdown",
   "metadata": {
    "hidden": true
   },
   "source": [
    "<details>\n",
    "<summary> <b> Reveal Answer </b> </summary>\n",
    "\n",
    "    arcpy.management.CreateMosaicDataset(\n",
    "        in_workspace=arcpy.env.workspace,\n",
    "        in_mosaicdataset_name=\"Kangaroo_Island_2019\",\n",
    "        coordinate_system='PROJCS[\"WGS_1984_UTM_Zone_53S\",GEOGCS[\"GCS_WGS_1984\",DATUM[\"D_WGS_1984\",SPHEROID[\"WGS_1984\",6378137.0,298.257223563]],PRIMEM[\"Greenwich\",0.0],UNIT[\"Degree\",0.0174532925199433]],PROJECTION[\"Transverse_Mercator\"],PARAMETER[\"False_Easting\",500000.0],PARAMETER[\"False_Northing\",10000000.0],PARAMETER[\"Central_Meridian\",135.0],PARAMETER[\"Scale_Factor\",0.9996],PARAMETER[\"Latitude_Of_Origin\",0.0],UNIT[\"Meter\",1.0]]',\n",
    "        num_bands=13,\n",
    "        pixel_type=\"\",\n",
    "        product_definition=\"CUSTOM\",\n",
    "        product_band_definitions=\"AOT # #;Coastal # #;Blue # #;Green # #;Red # #;VRE1 # #;VRE2 # #;VRE3 # #;NIR # #;'Water Vapor' # #;SWIR1 # #;SWIR2 # #;VRE4 # #\"\n",
    "    )\n",
    "</details>"
   ]
  },
  {
   "cell_type": "markdown",
   "metadata": {
    "heading_collapsed": true,
    "hidden": true
   },
   "source": [
    "#### Add Rasters to Mosaic Dataset from Microsoft Planetary Computer STAC Connection"
   ]
  },
  {
   "cell_type": "markdown",
   "metadata": {
    "hidden": true
   },
   "source": [
    "1. Explore the Sentinel-2 L2A STAC Connection\n",
    "    - Catalog > STACs Folder > Right Click Sentinel-2 L2A.astac > Explore STAC\n",
    "    \n",
    "    \n",
    "2. Input the following parameters:\n",
    "    - **Collection Name** - sentinel-2-l2a\n",
    "    - **Date and Time** - 12/15/2019 12:00:00 PM - 12/16/2019 10:00:00 PM\n",
    "    - **Extent** - Kangaroo Island\n",
    "    - **Attributes** - Dataset\n",
    "        - eo:cloud_cover <= 1\n",
    "    - **View Results**\n",
    "    \n",
    "    \n",
    "3. Select the checkboxes for the top 2 STAC items.\n",
    "    - S2A_MSIL2A_20191216T004701_R102_T53HPA_20201003T053204\n",
    "    - S2A_MSIL2A_20191216T004701_R102_T53HQA_20201003T053204\n",
    "         \n",
    "         \n",
    "4. With the 2 STAC items selected, click the folder drop-down button in the top-left of the tool. Select 'Add to Mosaic Dataset'.\n",
    "\n",
    "\n",
    "5. Input the following parameters:\n",
    "    - **Mosaic Dataset** - Kangaroo_Island_2019\n",
    "    - **Raster Processing** - Check 'Calculate Statistics' & 'Build Raster Pyramids'\n",
    "    \n",
    "    \n",
    "6. Without running the tool, select the 'Copy Python Command' button and paste the results below\n",
    "    "
   ]
  },
  {
   "cell_type": "code",
   "execution_count": null,
   "metadata": {
    "hidden": true
   },
   "outputs": [],
   "source": [
    "# Enter Solution & Run Cell Block"
   ]
  },
  {
   "cell_type": "markdown",
   "metadata": {
    "hidden": true
   },
   "source": [
    "<details>\n",
    "<summary> <b> Reveal Answer </b> </summary>\n",
    "    \n",
    "    import os\n",
    "    arcpy.management.AddRastersToMosaicDataset(\n",
    "        in_mosaic_dataset=\"Kangaroo_Island_2019\",\n",
    "        raster_type=\"Raster Dataset\",\n",
    "        input_path=os.path.join(arcpy.mp.ArcGISProject(\"CURRENT\").homeFolder, \"Rasters_2019.csv\"),\n",
    "        # OR input_path=os.path.join(arcpy.mp.ArcGISProject(\"CURRENT\").homeFolder, \"commondata\\\\userdata\\\\Rasters_2019.csv\"),\n",
    "        update_cellsize_ranges=\"UPDATE_CELL_SIZES\",\n",
    "        update_boundary=\"UPDATE_BOUNDARY\",\n",
    "        update_overviews=\"NO_OVERVIEWS\",\n",
    "        maximum_pyramid_levels=None,\n",
    "        maximum_cell_size=0,\n",
    "        minimum_dimension=1500,\n",
    "        spatial_reference=None,\n",
    "        filter=\"\",\n",
    "        sub_folder=None,\n",
    "        duplicate_items_action=\"ALLOW_DUPLICATES\",\n",
    "        build_pyramids=\"BUILD_PYRAMIDS\",\n",
    "        calculate_statistics=\"CALCULATE_STATISTICS\",\n",
    "        build_thumbnails=None,\n",
    "        operation_description=\"\",\n",
    "        force_spatial_reference=None,\n",
    "        estimate_statistics=\"ESTIMATE_STATISTICS\",\n",
    "        aux_inputs=\"QueryPixelFiles NO\",\n",
    "        enable_pixel_cache=\"NO_PIXEL_CACHE\"\n",
    "    )\n",
    "</details>"
   ]
  },
  {
   "cell_type": "markdown",
   "metadata": {
    "hidden": true
   },
   "source": [
    "<b> Recommended Symbology <b>"
   ]
  },
  {
   "attachments": {
    "symbology.png": {
     "image/png": "[encoded data removed]"
    }
   },
   "cell_type": "markdown",
   "metadata": {
    "hidden": true
   },
   "source": [
    "![symbology.png](attachment:symbology.png)"
   ]
  },
  {
   "cell_type": "markdown",
   "metadata": {
    "heading_collapsed": true,
    "hidden": true
   },
   "source": [
    "#### Clip Raster to ROI"
   ]
  },
  {
   "cell_type": "markdown",
   "metadata": {
    "hidden": true
   },
   "source": [
    "This section won't have a Geoprocessing Tool associated with it, so we won't be able to use the 'Copy Python Command' button. Instead, we'll have to use Python to access the Image Analyst's version of the Clip tool. This version has several benefits over the Data Management version of the tool because it will allow us to write our output to memory and it retains the band names in the metadata.\n",
    "\n",
    "1. Create a variable ```kangaroo_clip``` and set it equal to ```arcpy.ia.Clip()```\n",
    "2. Within the parentheses, create a variable named ```in_raster``` and set it equal to ```Kangaroo_Island_2019```\n",
    "3. Within the parentheses, create another variable named ```aoi``` and set it equal to ```Kangaroo Island```\n",
    "4. Outside of the parentheses, create a temporary raster and add it to the active map with the following command ```arcpy.MakeRasterLayer_management(kangaroo_clip, \"Kangaroo_Island_2019_Clip\")```"
   ]
  },
  {
   "cell_type": "code",
   "execution_count": null,
   "metadata": {
    "hidden": true
   },
   "outputs": [],
   "source": [
    "# Enter Solution & Run Cell Block"
   ]
  },
  {
   "cell_type": "markdown",
   "metadata": {
    "hidden": true
   },
   "source": [
    "<details>\n",
    "<summary> <b> Reveal Answer </b> </summary>\n",
    "\n",
    "    kangaroo_clip = arcpy.ia.Clip(\n",
    "        in_raster=\"Kangaroo_Island_2019\",\n",
    "        aoi=\"Kangaroo Island\"\n",
    "    )\n",
    "    arcpy.MakeRasterLayer_management(kangaroo_clip, \"Kangaroo_Island_2019_Clip\")\n",
    "</details>"
   ]
  },
  {
   "cell_type": "markdown",
   "metadata": {
    "heading_collapsed": true
   },
   "source": [
    "### Exercise 2: Make Inputs Relative\n",
    "In the previous exercise, we produced a repeatable workflow to mask Sentinel-2 imagery on Kangaroo Island. The 'Copy Python Command' tool is a great starting point for creating repeatable workflows on my own machine, but it has some flaws. Most notably, consider what would happen if trying to run this Notebook on another machine or with with different input rasters? Let's explore how we can make this code 'better' by using relative file paths and inputs. We'll recreate this workflow for Sentinel-2 imagery from 2020."
   ]
  },
  {
   "cell_type": "markdown",
   "metadata": {
    "hidden": true
   },
   "source": [
    "**arcpy.env.workspace** - ArcPy's method for identifying the project's workspace. The default workspace environment for every project is its default file geodatabase, in this case arcpy_workshop.gdb"
   ]
  },
  {
   "cell_type": "code",
   "execution_count": null,
   "metadata": {
    "hidden": true
   },
   "outputs": [],
   "source": [
    "arcpy.env.workspace"
   ]
  },
  {
   "cell_type": "markdown",
   "metadata": {
    "hidden": true
   },
   "source": [
    "**os.path.join** - The os module is part of the Python standard library. os.path.join is a helpful way for joining filepaths to files in an operating system \"safe\" way."
   ]
  },
  {
   "cell_type": "code",
   "execution_count": null,
   "metadata": {
    "hidden": true
   },
   "outputs": [],
   "source": [
    "import os\n",
    "os.path.join(arcpy.env.workspace, \"example.txt\")"
   ]
  },
  {
   "cell_type": "markdown",
   "metadata": {
    "hidden": true
   },
   "source": [
    "**arcpy.mp.ArcGISProject(\"CURRENT\").homeFolder** - A very helpful way for programmatically getting the folder location of the current project."
   ]
  },
  {
   "cell_type": "code",
   "execution_count": null,
   "metadata": {
    "hidden": true
   },
   "outputs": [],
   "source": [
    "arcpy.mp.ArcGISProject(\"CURRENT\").homeFolder"
   ]
  },
  {
   "cell_type": "markdown",
   "metadata": {
    "heading_collapsed": true,
    "hidden": true
   },
   "source": [
    "#### Search STAC"
   ]
  },
  {
   "cell_type": "markdown",
   "metadata": {
    "hidden": true
   },
   "source": [
    "1. Explore the Sentinel-2 L2A STAC Connection\n",
    "    - Catalog > STACs Folder > Right Click Sentinel-2 L2A.astac > Explore STAC\n",
    "    \n",
    "    \n",
    "2. Input the following parameters:\n",
    "    - **Collection Name** - sentinel-2-l2a\n",
    "    - **Date and Time** - 12/24/2020 12:00:00 PM - 12/25/2020 10:00:00 PM\n",
    "    - **Extent** - Kangaroo Island\n",
    "    - **Attributes** - Dataset\n",
    "        - eo:cloud_cover <= 20\n",
    "    - **View Results**\n",
    "    \n",
    "    \n",
    "3. Select the checkboxes for the top 2 STAC items.\n",
    "    - S2B_MSIL2A_20201225T004709_R102_T53HPA_20201225T152632\n",
    "    - S2B_MSIL2A_20201225T004709_R102_T53HQA_20201225T152833\n",
    "         \n",
    "         \n",
    "4. With the 2 STAC items selected, click the folder drop-down button in the top-left of the tool. Select 'Add to Mosaic Dataset'.\n",
    "\n",
    "\n",
    "5. Note where the Input Data is being directed to, a CSV file that's save to the temporary directory for ArcGIS Pro projects. If you ever want to reuse the files you selected in STAC, then go to that location and save to file for future use."
   ]
  },
  {
   "cell_type": "markdown",
   "metadata": {
    "heading_collapsed": true,
    "hidden": true
   },
   "source": [
    "#### Global Variables"
   ]
  },
  {
   "cell_type": "markdown",
   "metadata": {
    "hidden": true
   },
   "source": [
    "1. Use **arcpy.env.workspace** to create a workspace variable of the project's default location ```WORKSPACE = arcpy.env.workspace```\n",
    "2. Create a mask variable of the Kangaroo Island boundary feature class ```MASK = 'Kangaroo Island'```\n",
    "3. Create a variable to name the mosaic dataset ```MOSAIC_DATASET_NAME = 'Kangaroo_Island_2020'```\n",
    "4. Use **os.path.join** to create a mosaic dataset path variable from the project's workspace and the mosaic dataset name ```MOSAIC_DATASET_PATH = os.path.join(WORKSPACE, MOSAIC_DATASET_NAME)```\n",
    "5. Enter the file path to STAC CSV file that contains our rasters for 2020."
   ]
  },
  {
   "cell_type": "code",
   "execution_count": null,
   "metadata": {
    "hidden": true
   },
   "outputs": [],
   "source": [
    "WORKSPACE = ?\n",
    "\n",
    "MASK = '?'\n",
    "\n",
    "MOSAIC_DATASET_NAME = '?'\n",
    "MOSAIC_DATASET_PATH = os.path.join(?, ?)\n",
    "\n",
    "STAC_CSV = os.path.join(arcpy.mp.ArcGISProject(\"CURRENT\").homeFolder, \"?\")"
   ]
  },
  {
   "cell_type": "markdown",
   "metadata": {
    "hidden": true
   },
   "source": [
    "<details>\n",
    "<summary> <b> Reveal Answer </b> </summary>\n",
    "\n",
    "    WORKSPACE = arcpy.env.workspace\n",
    "\n",
    "    MASK = 'Kangaroo Island'\n",
    "\n",
    "    MOSAIC_DATASET_NAME = 'Kangaroo_Island_2020'\n",
    "    MOSAIC_DATASET_PATH = os.path.join(WORKSPACE, MOSAIC_DATASET_NAME)\n",
    "\n",
    "    STAC_CSV = os.path.join(arcpy.mp.ArcGISProject(\"CURRENT\").homeFolder, \"Rasters_2020.csv\")\n",
    "    # Rasters_2020.csv could potentially be stored in the following location:\n",
    "    # STAC_CSV = os.path.join(arcpy.mp.ArcGISProject(\"CURRENT\").homeFolder, \"commondata\\\\userdata\\\\Rasters_2020.csv\")\n",
    "</details>"
   ]
  },
  {
   "cell_type": "markdown",
   "metadata": {
    "heading_collapsed": true,
    "hidden": true
   },
   "source": [
    "#### Create Mosaic Dataset"
   ]
  },
  {
   "cell_type": "markdown",
   "metadata": {
    "hidden": true
   },
   "source": [
    "1. Input the variable for the ```workspace```\n",
    "2. Input the variable for the ```mosaic dataset name```"
   ]
  },
  {
   "cell_type": "code",
   "execution_count": null,
   "metadata": {
    "hidden": true
   },
   "outputs": [],
   "source": [
    "arcpy.management.CreateMosaicDataset(\n",
    "    in_workspace= ?,\n",
    "    in_mosaicdataset_name= ?,\n",
    "    coordinate_system='PROJCS[\"WGS_1984_UTM_Zone_53S\",GEOGCS[\"GCS_WGS_1984\",DATUM[\"D_WGS_1984\",SPHEROID[\"WGS_1984\",6378137.0,298.257223563]],PRIMEM[\"Greenwich\",0.0],UNIT[\"Degree\",0.0174532925199433]],PROJECTION[\"Transverse_Mercator\"],PARAMETER[\"False_Easting\",500000.0],PARAMETER[\"False_Northing\",10000000.0],PARAMETER[\"Central_Meridian\",135.0],PARAMETER[\"Scale_Factor\",0.9996],PARAMETER[\"Latitude_Of_Origin\",0.0],UNIT[\"Meter\",1.0]]',\n",
    "    num_bands=13,\n",
    "    pixel_type=\"\",\n",
    "    product_definition=\"CUSTOM\",\n",
    "    product_band_definitions=\"AOT # #;Coastal # #;Blue # #;Green # #;Red # #;VRE1 # #;VRE2 # #;VRE3 # #;NIR # #;'Water Vapor' # #;SWIR1 # #;SWIR2 # #;VRE4 # #\"\n",
    ")"
   ]
  },
  {
   "cell_type": "markdown",
   "metadata": {
    "hidden": true
   },
   "source": [
    "<details>\n",
    "<summary> <b> Reveal Answer </b> </summary>\n",
    "\n",
    "    arcpy.management.CreateMosaicDataset(\n",
    "        in_workspace=WORKSPACE,\n",
    "        in_mosaicdataset_name=MOSAIC_DATASET_NAME,\n",
    "        coordinate_system='PROJCS[\"WGS_1984_UTM_Zone_53S\",GEOGCS[\"GCS_WGS_1984\",DATUM[\"D_WGS_1984\",SPHEROID[\"WGS_1984\",6378137.0,298.257223563]],PRIMEM[\"Greenwich\",0.0],UNIT[\"Degree\",0.0174532925199433]],PROJECTION[\"Transverse_Mercator\"],PARAMETER[\"False_Easting\",500000.0],PARAMETER[\"False_Northing\",10000000.0],PARAMETER[\"Central_Meridian\",135.0],PARAMETER[\"Scale_Factor\",0.9996],PARAMETER[\"Latitude_Of_Origin\",0.0],UNIT[\"Meter\",1.0]]',\n",
    "        num_bands=13,\n",
    "        pixel_type=\"\",\n",
    "        product_definition=\"CUSTOM\",\n",
    "        product_band_definitions=\"AOT # #;Coastal # #;Blue # #;Green # #;Red # #;VRE1 # #;VRE2 # #;VRE3 # #;NIR # #;'Water Vapor' # #;SWIR1 # #;SWIR2 # #;VRE4 # #\"\n",
    "    )\n",
    "</details>"
   ]
  },
  {
   "cell_type": "markdown",
   "metadata": {
    "heading_collapsed": true,
    "hidden": true
   },
   "source": [
    "#### Add Rasters to Mosaic Dataset from Microsoft Planetary Computer STAC Connection"
   ]
  },
  {
   "cell_type": "markdown",
   "metadata": {
    "hidden": true
   },
   "source": [
    "1. Input the variable for the ```mosaic dataset name```\n",
    "2. Input the variable for the saved ```STAC CSV```"
   ]
  },
  {
   "cell_type": "code",
   "execution_count": null,
   "metadata": {
    "hidden": true
   },
   "outputs": [],
   "source": [
    "arcpy.management.AddRastersToMosaicDataset(\n",
    "    in_mosaic_dataset= ?,\n",
    "    raster_type=\"Raster Dataset\",\n",
    "    input_path= ?,\n",
    "    update_cellsize_ranges=\"UPDATE_CELL_SIZES\",\n",
    "    update_boundary=\"UPDATE_BOUNDARY\",\n",
    "    update_overviews=\"NO_OVERVIEWS\",\n",
    "    maximum_pyramid_levels=None,\n",
    "    maximum_cell_size=0,\n",
    "    minimum_dimension=1500,\n",
    "    spatial_reference=None,\n",
    "    filter=\"\",\n",
    "    sub_folder=None,\n",
    "    duplicate_items_action=\"ALLOW_DUPLICATES\",\n",
    "    build_pyramids=\"BUILD_PYRAMIDS\",\n",
    "    calculate_statistics=\"CALCULATE_STATISTICS\",\n",
    "    build_thumbnails=None,\n",
    "    operation_description=\"\",\n",
    "    force_spatial_reference=None,\n",
    "    estimate_statistics=\"ESTIMATE_STATISTICS\",\n",
    "    aux_inputs=\"QueryPixelFiles NO\",\n",
    "    enable_pixel_cache=\"NO_PIXEL_CACHE\"\n",
    ")"
   ]
  },
  {
   "cell_type": "markdown",
   "metadata": {
    "hidden": true
   },
   "source": [
    "<details>\n",
    "<summary> <b> Reveal Answer </b> </summary>\n",
    "\n",
    "    arcpy.management.AddRastersToMosaicDataset(\n",
    "        in_mosaic_dataset=MOSAIC_DATASET_NAME,\n",
    "        raster_type=\"Raster Dataset\",\n",
    "        input_path=STAC_CSV,\n",
    "        update_cellsize_ranges=\"UPDATE_CELL_SIZES\",\n",
    "        update_boundary=\"UPDATE_BOUNDARY\",\n",
    "        update_overviews=\"NO_OVERVIEWS\",\n",
    "        maximum_pyramid_levels=None,\n",
    "        maximum_cell_size=0,\n",
    "        minimum_dimension=1500,\n",
    "        spatial_reference=None,\n",
    "        filter=\"\",\n",
    "        sub_folder=None,\n",
    "        duplicate_items_action=\"ALLOW_DUPLICATES\",\n",
    "        build_pyramids=\"BUILD_PYRAMIDS\",\n",
    "        calculate_statistics=\"CALCULATE_STATISTICS\",\n",
    "        build_thumbnails=None,\n",
    "        operation_description=\"\",\n",
    "        force_spatial_reference=None,\n",
    "        estimate_statistics=\"ESTIMATE_STATISTICS\",\n",
    "        aux_inputs=\"QueryPixelFiles NO\",\n",
    "        enable_pixel_cache=\"NO_PIXEL_CACHE\"\n",
    "    )\n",
    "</details>"
   ]
  },
  {
   "cell_type": "markdown",
   "metadata": {
    "heading_collapsed": true,
    "hidden": true
   },
   "source": [
    "#### Clip Raster to ROI"
   ]
  },
  {
   "cell_type": "markdown",
   "metadata": {
    "hidden": true
   },
   "source": [
    "1. Input the variable for the ```mosaic dataset name```\n",
    "2. Input the variable for the kangaroo island ```mask```"
   ]
  },
  {
   "cell_type": "code",
   "execution_count": null,
   "metadata": {
    "hidden": true
   },
   "outputs": [],
   "source": [
    "kangaroo_clip_2020 = arcpy.ia.Clip(\n",
    "    in_raster= ?,\n",
    "    aoi= ?\n",
    ")\n",
    "arcpy.MakeRasterLayer_management(kangaroo_clip_2020, \"Kangaroo_Island_2020_Clip\")"
   ]
  },
  {
   "cell_type": "markdown",
   "metadata": {
    "hidden": true
   },
   "source": [
    "<details>\n",
    "<summary> <b> Reveal Answer </b> </summary>\n",
    "\n",
    "    kangaroo_clip_2020 = arcpy.ia.Clip(\n",
    "        in_raster= MOSAIC_DATASET_NAME,\n",
    "        aoi= MASK\n",
    "    )\n",
    "    arcpy.MakeRasterLayer_management(kangaroo_clip_2020, \"Kangaroo_Island_2020_Clip\")\n",
    "</details>"
   ]
  }
 ],
 "metadata": {
  "kernelspec": {
   "display_name": "ArcGISPro",
   "language": "python",
   "name": "python3"
  },
  "language_info": {
   "file_extension": ".py",
   "mimetype": "text/x-python",
   "name": "python",
   "version": "3.11.10"
  }
 },
 "nbformat": 4,
 "nbformat_minor": 4
}
