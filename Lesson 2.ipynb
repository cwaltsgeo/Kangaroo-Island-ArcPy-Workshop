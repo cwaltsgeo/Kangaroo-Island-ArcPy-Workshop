{
 "cells": [
  {
   "cell_type": "markdown",
   "metadata": {},
   "source": [
    "## Lesson 2: Accessing Imagery in the Cloud"
   ]
  },
  {
   "cell_type": "markdown",
   "metadata": {
    "heading_collapsed": true
   },
   "source": [
    "#### Exercise 1: Image Services & ArcGIS Living Atlas"
   ]
  },
  {
   "cell_type": "markdown",
   "metadata": {
    "hidden": true
   },
   "source": [
    "**Let's explore how we can connect to Image Services in ArcPy!**\n",
    "1. Navigate to the ArcGIS Living Atlas of the World - https://livingatlas.arcgis.com/en/home/\n",
    "2. Search for \"MODIS\" and filter for Imagery\n",
    "3. Select the ```True Color - Corrected Reflectance (MODIS / Terra)``` item by NASA Earthdata\n",
    "4. Explore the item's metadata, then navigate to the bottom of the page to copy the REST URL:\n",
    "<br> ```https://modis.arcgis.com/arcgis/rest/services/MODIS/ImageServer``` <br>\n",
    "5. Set the MODIS_REST_URL equal to the REST URL copied from Step 4 & run the cells below"
   ]
  },
  {
   "cell_type": "code",
   "execution_count": null,
   "metadata": {
    "hidden": true
   },
   "outputs": [],
   "source": [
    "MODIS_REST_URL = \"?\""
   ]
  },
  {
   "cell_type": "code",
   "execution_count": null,
   "metadata": {
    "hidden": true
   },
   "outputs": [],
   "source": [
    "#arcpy.MakeRasterLayer_management(REST_URL, NAME)\n",
    "arcpy.MakeRasterLayer_management(MODIS_REST_URL, \"MODIS\")"
   ]
  },
  {
   "cell_type": "markdown",
   "metadata": {
    "hidden": true
   },
   "source": [
    "<details>\n",
    "<summary> <b> Reveal Answer </b> </summary>\n",
    "    \n",
    "    MODIS_REST_URL = \"https://modis.arcgis.com/arcgis/rest/services/MODIS/ImageServer\"\n",
    "    arcpy.MakeRasterLayer_management(MODIS_REST_URL, \"MODIS\")\n",
    "\n",
    "</details>"
   ]
  },
  {
   "cell_type": "markdown",
   "metadata": {
    "heading_collapsed": true
   },
   "source": [
    "#### Exercise 2: ArcGIS Cloud Storage Connections"
   ]
  },
  {
   "cell_type": "markdown",
   "metadata": {
    "hidden": true
   },
   "source": [
    "When imagery products are stored in these cloud services, then we can use the ```arcpy.management.CreateCloudStorageConnectionFile()``` for connecting the data directly to ArcGIS Pro.\n",
    "\n",
    "**Let's explore how we can Create a Cloud Storage Connection File in ArcGIS Pro!**\n",
    "1. Explore Earth on AWS, which is Amazon's curated registry of open geospatial data - https://aws.amazon.com/earth/\n",
    "2. Locate the NASA Prediction of Worldwide Energy Resources (POWER) S3 bucket - https://registry.opendata.aws/nasa-power/\n",
    "3. Note the Amazon Resource Name (ARN): ```arn:aws:s3:::power-analysis-ready-datastore```, which is where you get the S3 bucket name ```power-analysis-ready-datastore```\n",
    "4. With this information, fill out the cell block below witht the ```out_folder_path``` pointing to any accessible folder on your laptop where the ```POWER.acs``` file will be stored.\n",
    "5. Then, set the ```bucket_name``` equal to ```power-analysis-ready-datastore```"
   ]
  },
  {
   "cell_type": "code",
   "execution_count": null,
   "metadata": {
    "hidden": true
   },
   "outputs": [],
   "source": [
    "#arcpy.management.CreateCloudStorageConnectionFile(OUT_FOLDER_PATH, OUT_NAME, SERVICE_PROVIDER, BUCKET_NAME)\n",
    "arcpy.management.CreateCloudStorageConnectionFile(\n",
    "    out_folder_path= \"?\",\n",
    "    out_name=\"POWER.acs\",\n",
    "    service_provider=\"AMAZON\",\n",
    "    bucket_name= \"?\"\n",
    ")"
   ]
  },
  {
   "cell_type": "markdown",
   "metadata": {
    "hidden": true
   },
   "source": [
    "<details>\n",
    "<summary> <b> Reveal Answer </b> </summary>\n",
    "    \n",
    "    import os\n",
    "    arcpy.management.CreateCloudStorageConnectionFile(\n",
    "        out_folder_path= os.path.dirname(arcpy.mp.ArcGISProject(\"CURRENT\").filePath),\n",
    "        out_name=\"POWER.acs\",\n",
    "        service_provider=\"AMAZON\",\n",
    "        bucket_name= \"power-analysis-ready-datastore\"\n",
    "    )\n",
    "\n",
    "</details>"
   ]
  },
  {
   "cell_type": "markdown",
   "metadata": {},
   "source": [
    "#### Exercise 3: STAC Connections"
   ]
  },
  {
   "cell_type": "markdown",
   "metadata": {},
   "source": [
    "**Let's explore how we can make a STAC Connection in ArcGIS Pro!**\n",
    "\n",
    "Note: At the moment, there is not a way to make a STAC Connection with ArcPy. Therefore, we will have to work in ArcGIS Pro's GUI to perform this task.\n",
    "\n",
    "1. Navigate to the Insert Riboon. Within the Project section, select Connections > STAC Connection > New STAC Connection. (Alternatively, press 'Alt+Q' and search for New STAC Connection)\n",
    "![stac-1.jpg](images/stac-1.jpg)\n",
    "\n",
    "2. Within the STAC Connection pane, set the following parameters:\n",
    "    \n",
    "    - **Connection Name**: ```Sentinel-2 L2A```\n",
    "    - **Connection**: ```Microsoft Planetary Computer```\n",
    "    \n",
    "3. Under **Cloud Storage Connections (Optional)**, select the green plus button to add the ACS file for Microsoft's Planetary Computer Sentinel-2 L2A product.\n",
    "    - ```esrims_pc_sentinel-2-l2a.acs``` within the Arcpy Workshop Project folder"
   ]
  },
  {
   "cell_type": "markdown",
   "metadata": {},
   "source": [
    "![stac-5.jpg](images/stac-5.jpg)\n",
    "\n",
    "4. Hit the okay button, then the STAC Connection will appear within Catalog > STACs > Sentinel-2 L2A.astac\n",
    "Right click and hit \"Explore STAC\" to filter imagery based on geographic location, time, and associate metadata."
   ]
  },
  {
   "cell_type": "markdown",
   "metadata": {},
   "source": [
    "![stac-6.jpg](images/stac-6.jpg)"
   ]
  },
  {
   "cell_type": "markdown",
   "metadata": {},
   "source": [
    "Explore the STAC Connection & add a Sentinel-2 L2A image to a map in ArcGIS Pro"
   ]
  }
 ],
 "metadata": {
  "kernelspec": {
   "display_name": "ArcGISPro",
   "language": "python",
   "name": "python3"
  },
  "language_info": {
   "file_extension": ".py",
   "mimetype": "text/x-python",
   "name": "python",
   "version": "3.11.10"
  }
 },
 "nbformat": 4,
 "nbformat_minor": 4
}
